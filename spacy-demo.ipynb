{
 "cells": [
  {
   "cell_type": "code",
   "execution_count": null,
   "id": "initial_id",
   "outputs": [],
   "source": [
    "import spacy\n",
    "from spacy import displacy\n",
    "from IPython.display import display, HTML\n",
    "\n",
    "prompt = \"Paste some text here and press 'enter': \\n\"\n",
    "nlp = spacy.load(\"en_core_web_sm\")\n",
    "doc = nlp(input(prompt))\n",
    "\n",
    "display(HTML(\"<h2>Simple Part of Speech tags</h2>\"))\n",
    "displacy.render(doc, style=\"dep\", jupyter=True, options={'fine_grained': False})\n",
    "display(HTML(\"<h2>Fine-grained Part of Speech tags</h2>\"))\n",
    "displacy.render(doc, style=\"dep\", jupyter=True, options={'fine_grained': True})\n",
    "display(HTML(\"<h2>Descriptions of tags present</h2>\"))\n",
    "for tok in doc:\n",
    "    print(f\"{tok}:\\n\\tPOS: {tok.pos_} - {spacy.explain(tok.pos_)}\\n\\tPOS (fine-grained): {tok.tag_} - {spacy.explain(tok.tag_)}\\n\\tDep: {tok.dep_} - {spacy.explain(tok.dep_)}\")"
   ],
   "metadata": {}
  }
 ],
 "metadata": {
  "kernelspec": {
   "display_name": "Python 3",
   "language": "python",
   "name": "python3"
  },
  "language_info": {
   "codemirror_mode": {
    "name": "ipython",
    "version": 2
   },
   "file_extension": ".py",
   "mimetype": "text/x-python",
   "name": "python",
   "nbconvert_exporter": "python",
   "pygments_lexer": "ipython2",
   "version": "2.7.6"
  }
 },
 "nbformat": 4,
 "nbformat_minor": 5
}
